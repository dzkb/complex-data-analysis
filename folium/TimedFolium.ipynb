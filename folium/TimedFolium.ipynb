{
 "cells": [
  {
   "cell_type": "code",
   "execution_count": null,
   "metadata": {
    "colab": {},
    "colab_type": "code",
    "id": "Y69u7jsu9JR6"
   },
   "outputs": [],
   "source": [
    "%ls\n",
    "\n",
    "import sys\n",
    "sys.path.append(\"folium/\")\n",
    "\n",
    "import json\n",
    "import folium\n",
    "from folium import plugins"
   ]
  },
  {
   "cell_type": "code",
   "execution_count": 15,
   "metadata": {},
   "outputs": [],
   "source": [
    "with open(\"delays.json\", \"r\") as f:\n",
    "    delays_json = json.load(f)\n",
    "\n",
    "with open(\"meteo.json\", \"r\") as f:\n",
    "    meteo_json = json.load(f)"
   ]
  },
  {
   "cell_type": "code",
   "execution_count": 20,
   "metadata": {
    "colab": {
     "base_uri": "https://localhost:8080/",
     "height": 921
    },
    "colab_type": "code",
    "id": "UK4oK7s99S8z",
    "outputId": "262eb4ae-c90f-4ff0-c635-dd89614752bf"
   },
   "outputs": [],
   "source": [
    "m = folium.Map(location=[52, 17],\n",
    "                    zoom_start = 7) \n",
    "\n",
    "delays = plugins.TimestampedGeoJson(delays_json, duration=\"PT15M\", period=\"PT15M\", auto_play=False)\n",
    "meteo = plugins.TimestampedGeoJson(meteo_json, duration=\"PT15M\", period=\"PT15M\", auto_play=False)\n",
    "\n",
    "delays.add_to(m)\n",
    "meteo.add_to(m)\n",
    "\n",
    "m.save(\"map.html\")"
   ]
  }
 ],
 "metadata": {
  "colab": {
   "collapsed_sections": [],
   "name": "TimedFolium",
   "provenance": [],
   "version": "0.3.2"
  },
  "kernelspec": {
   "display_name": "Python 3",
   "language": "python",
   "name": "python3"
  },
  "language_info": {
   "codemirror_mode": {
    "name": "ipython",
    "version": 3
   },
   "file_extension": ".py",
   "mimetype": "text/x-python",
   "name": "python",
   "nbconvert_exporter": "python",
   "pygments_lexer": "ipython3",
   "version": "3.6.8"
  }
 },
 "nbformat": 4,
 "nbformat_minor": 2
}
