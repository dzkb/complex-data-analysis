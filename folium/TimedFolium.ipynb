{
 "cells": [
  {
   "cell_type": "code",
   "execution_count": 5,
   "metadata": {
    "colab": {},
    "colab_type": "code",
    "id": "Y69u7jsu9JR6"
   },
   "outputs": [
    {
     "name": "stdout",
     "output_type": "stream",
     "text": [
      " Volume in drive C has no label.\n",
      " Volume Serial Number is A644-4628\n",
      "\n",
      " Directory of C:\\proj\\complex-data-analysis\\folium\n",
      "\n",
      "03.06.2019  00:41    <DIR>          .\n",
      "03.06.2019  00:41    <DIR>          ..\n",
      "31.05.2019  23:20    <DIR>          .ipynb_checkpoints\n",
      "03.06.2019  00:41            12ÿ199 delays+meteo2geojson.ipynb\n",
      "03.06.2019  00:41    <DIR>          images\n",
      "03.06.2019  00:33         3ÿ332ÿ979 map.html\n",
      "03.06.2019  00:41             2ÿ302 TimedFolium.ipynb\n",
      "               3 File(s)      3ÿ347ÿ480 bytes\n",
      "               4 Dir(s)  119ÿ136ÿ415ÿ744 bytes free\n"
     ]
    }
   ],
   "source": [
    "%ls\n",
    "\n",
    "# import sys\n",
    "# sys.path.append(\"folium/\")\n",
    "\n",
    "import json\n",
    "import folium\n",
    "from folium import plugins"
   ]
  },
  {
   "cell_type": "code",
   "execution_count": 7,
   "metadata": {},
   "outputs": [],
   "source": [
    "with open(\"../data/delays.json\", \"r\") as f:\n",
    "    delays_json = json.load(f)\n",
    "\n",
    "with open(\"../data/meteo.json\", \"r\") as f:\n",
    "    meteo_json = json.load(f)"
   ]
  },
  {
   "cell_type": "code",
   "execution_count": 8,
   "metadata": {
    "colab": {
     "base_uri": "https://localhost:8080/",
     "height": 921
    },
    "colab_type": "code",
    "id": "UK4oK7s99S8z",
    "outputId": "262eb4ae-c90f-4ff0-c635-dd89614752bf"
   },
   "outputs": [],
   "source": [
    "m = folium.Map(location=[52, 17],\n",
    "               zoom_start = 7) \n",
    "\n",
    "delays = plugins.TimestampedGeoJson(delays_json, duration=\"PT15M\", period=\"PT15M\", auto_play=False)\n",
    "meteo = plugins.TimestampedGeoJson(meteo_json, duration=\"PT14M\", period=\"PT15M\", auto_play=False)\n",
    "synchronizer = plugins.TimestampedGeoJsonSynchronizer()\n",
    "\n",
    "delays.add_to(m)\n",
    "meteo.add_to(m)\n",
    "synchronizer.add_to(m)\n",
    "\n",
    "m.save(\"map.html\")"
   ]
  }
 ],
 "metadata": {
  "colab": {
   "collapsed_sections": [],
   "name": "TimedFolium",
   "provenance": [],
   "version": "0.3.2"
  },
  "kernelspec": {
   "display_name": "Python 3",
   "language": "python",
   "name": "python3"
  },
  "language_info": {
   "codemirror_mode": {
    "name": "ipython",
    "version": 3
   },
   "file_extension": ".py",
   "mimetype": "text/x-python",
   "name": "python",
   "nbconvert_exporter": "python",
   "pygments_lexer": "ipython3",
   "version": "3.7.1"
  }
 },
 "nbformat": 4,
 "nbformat_minor": 2
}
