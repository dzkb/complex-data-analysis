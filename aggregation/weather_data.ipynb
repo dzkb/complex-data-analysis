{
 "cells": [
  {
   "cell_type": "code",
   "execution_count": 3,
   "metadata": {},
   "outputs": [],
   "source": [
    "import pandas as pd\n",
    "import numpy as np\n",
    "import os"
   ]
  },
  {
   "cell_type": "code",
   "execution_count": 6,
   "metadata": {},
   "outputs": [],
   "source": [
    "CLIMATE_DIR = 'C:/Users/centu/OneDrive/Dokumenty/complex-data/klimat/'\n",
    "SYNOP_DIR = 'C:/Users/centu/OneDrive/Dokumenty/complex-data/synop/'"
   ]
  },
  {
   "cell_type": "raw",
   "metadata": {},
   "source": [
    "\n",
    "Kod stacji                                                              9\n",
    "Nazwa stacji                                                           30\n",
    "Rok                                                                     4\n",
    "Miesiąc                                                                 2\n",
    "Dzień                                                                   2\n",
    "Godzina                                                                 2\n",
    "Temperatura powietrza [°C]                                              6/1\n",
    "Status pomiaru TEMP                                                     1\n",
    "Temperatura termometru zwilżonego [°C]                                  6/1\n",
    "Status pomiaru TTZW                                                     1\n",
    "Wskaźnik lodu [L/W]                                                     1\n",
    "Wskaźnik wentylacji [W/N]                                               1\n",
    "Wilgotność względna [%]                                                 5\n",
    "Status pomiaru WLGW                                                     1\n",
    "Kod kierunku wiatru [kod]                                               3\n",
    "Status pomiaru DKDK                                                     1\n",
    "Prędkość wiatru [m/s]                                                   5\n",
    "Status pomiaru FWR                                                      1\n",
    "Zachmurzenie ogólne [0-10 do dn.31.12.1988/oktanty od dn.01.01.1989]    5\n",
    "Status pomiaru ZOGK                                                     1\n",
    "Widzialność [kod]                                                       5\n",
    "Status pomiaru WID                                                      1\n",
    "\n",
    "Status \"8\" brak pomiaru"
   ]
  },
  {
   "cell_type": "code",
   "execution_count": 44,
   "metadata": {},
   "outputs": [],
   "source": [
    "CLIMATE_COLUMNS = ['station_code', 'station_name', 'year', 'month', 'day', 'hour', 'air_temp', \n",
    "                   'air_temp_measurement_status', 'wet_therm_temp', 'wet_therm_temp_measurement_status', \n",
    "                   'ice_indicator', 'ventilation_indicator', 'relative_humidity', \n",
    "                   'relative_humidity_measurement_status', 'wind_direction_code', 'dkdk_measurement_status', \n",
    "                   'wind_speed', 'fwr_measurement_status', 'general_cloudiness', 'zogk_measurement_status', \n",
    "                   'visibility_code', 'wid_measurement_status']"
   ]
  },
  {
   "cell_type": "raw",
   "metadata": {},
   "source": [
    "Kod stacji                                               9\n",
    "Nazwa stacji                                            30\n",
    "Rok                                                      4\n",
    "Miesiąc                                                  2\n",
    "Dzień                                                    2\n",
    "Godzina                                                  2\n",
    "Wysokość podstawy chmur CL CM szyfrowana [kod]           1\n",
    "Status pomiaru HPOD                                      1\n",
    "Wysokość podstawy niższej  [m]                           7\n",
    "Status pomiaru HPON                                      1\n",
    "Wysokość podstawy wyższej [m]                            7\n",
    "Status pomiaru HPOW                                      1\n",
    "Wysokość podstawy tekstowy [opis]                       10\n",
    "Pomiar przyrzadem 1 (niższa) [P]                         1\n",
    "Pomiar przyrzadem 2 (wyższa) [P]                         1\n",
    "Widzialność  [kod]                                       5\n",
    "Status pomiaru WID                                       1\n",
    "Widzialność operatora [m]                                7\n",
    "Status pomiaru WIDO                                      1\n",
    "Widzialność automat [m]                                  7\n",
    "Status pomiaru WIDA                                      1\n",
    "Zachmurzenie ogólne [oktanty]                            3\n",
    "Status pomiaru NOG                                       1\n",
    "Kierunek wiatru  [°]                                     5\n",
    "Status pomiaru KRWR                                      1\n",
    "Prędkość wiatru  [m/s]                                   5\n",
    "Status pomiaru FWR                                       1\n",
    "Poryw wiatru  [m/s]                                      5\n",
    "Status pomiaru PORW                                      1\n",
    "Temperatura powietrza [°C]                               6/1\n",
    "Status pomiaru TEMP                                      1\n",
    "Temperatura termometru zwilżonego [°C]                   6/1\n",
    "Status pomiaru TTZW                                      1\n",
    "Wskaźnik wentylacji [W/N]                                1\n",
    "Wskaźnik lodu       [L/W]                                1\n",
    "Ciśnienie pary wodnej [hPa]                              6/1\n",
    "Status pomiaru CPW                                       1\n",
    "Wilgotność względna [%]                                  5\n",
    "Status pomiaru WLGW                                      1\n",
    "Temperatura punktu rosy [°C]                             6/1\n",
    "Status pomiaru TPTR                                      1\n",
    "Ciśnienie na pozimie stacji [hPa]                        8/1\n",
    "Status pomiaru PPPS                                      1\n",
    "Ciśnienie na pozimie morza [hPa]                         8/1\n",
    "Status pomiaru PPPM                                      1\n",
    "Charakterystyka tendencji [kod]                          3\n",
    "Wartość tendencji [wartość]                              6/1\n",
    "Status pomiaru APP                                       1\n",
    "Opad za 6 godzin [mm]                                    8/1\n",
    "Status pomiaru WO6G                                      1\n",
    "Rodzaj opadu za 6 godzin [kod]                           3\n",
    "Status pomiaru ROPT                                      1\n",
    "Pogoda bieżąca [kod]                                     2\n",
    "Pogoda ubiegła [kod]                                     1\n",
    "Zachmurzenie niskie [oktanty]                            1\n",
    "Status pomiaru CLCM                                      1\n",
    "Chmury CL [kod]                                          1\n",
    "Status pomiaru CHCL                                      1\n",
    "Chmury CL tekstem                                       40\n",
    "Chmury CM [kod]                                          1\n",
    "Status pomiaru CHCM                                      1\n",
    "Chmury CM tekstem                                       20\n",
    "Chmury CH [kod]                                          1\n",
    "Status pomiaru CHCH                                      1\n",
    "Chmury CH tekstem                                       20\n",
    "Stan gruntu [kod]                                        5\n",
    "Status pomiaru SGRN                                      1\n",
    "Niedosyt wilgotności [hPa}                               6/1\n",
    "Status pomiaru DEFI                                      1\n",
    "Usłonecznienie                                           6/1\n",
    "Status pomiaru USLN                                      1\n",
    "Wystąpienie rosy [0/1]                                   1\n",
    "Status pomiaru ROSW                                      1\n",
    "Poryw maksymalny za okres WW [m/s]                       5\n",
    "Status pomiaru PORK                                      1\n",
    "Godzina wystąpienia porywu                               2\n",
    "Minuta wystąpienia porywu                                2\n",
    "Temperatura gruntu -5 [°C]                               6/1\n",
    "Status pomiaru TG05                                      1\n",
    "Temperatura gruntu -10 [°C]                              6/1\n",
    "Status pomiaru TG10                                      1\n",
    "Temperatura gruntu -20 [°C]                              6/1\n",
    "Status pomiaru TG20                                      1\n",
    "Temperatura gruntu -50 [°C]                              6/1\n",
    "Status pomiaru TG50                                      1\n",
    "Temperatura gruntu -100 [°C]                             6/1\n",
    "Status pomiaru TG100                                     1\n",
    "Temperatura minimalna za 12 godzin  [°C]                 6/1\n",
    "Status pomiaru TMIN                                      1\n",
    "Temperatura maksymalna za 12 godzin [°C]                 6/1\n",
    "Status pomiaru TMAX                                      1\n",
    "Temperatura minimalna przy gruncie za 12 godzin [°C]     6/1\n",
    "Status pomiaru TGMI                                      1\n",
    "Równoważnik wodny śniegu [mm/cm]                         6/1\n",
    "Status pomiaru RWSN                                      1\n",
    "Wysokość pokrywy śnieżnej [cm]                           5\n",
    "Status pomiaru PKSN                                      1\n",
    "Wysokość świeżo spadłego śniegu  [cm]                    5\n",
    "Status pomiaru HSS                                       1\n",
    "Wysokość śniegu na poletku [cm]                          5\n",
    "Status pomiaru GRSN                                      1\n",
    "Gatunek śniegu  [kod]                                    1\n",
    "Ukształtowanie pokrywy [kod]                             1\n",
    "Wysokość próbki [cm]                                     5\n",
    "Status pomiaru HPRO                                      1\n",
    "Ciężar próbki [g]                                        5\n",
    "Status pomiaru CIPR                                      1\n",
    "\n",
    "Status \"8\" brak pomiaru\n",
    "Status \"9\" brak zjawiska\n",
    "Dla pola \"Wysokość pokrywy śnieżnej\" (PKSN) stosuje się wartości kodowane:\n",
    "997 - mniejsza od 0.5 cm\n",
    "998 - nieciągła\n",
    "999 - niemożliwa do pomiaru\n",
    "Dla pola \"Usłonecznienie\" (USLN) do marca 2015 pomiar należy przesunąć o -1 godzinę (np z godziny 12 na 11)."
   ]
  },
  {
   "cell_type": "code",
   "execution_count": 40,
   "metadata": {},
   "outputs": [],
   "source": [
    "SYNOP_COLUMNS = ['station_code', 'station_name', 'year', 'month', 'day', 'hour',\n",
    "                 'wys_podstawy_chmur_szyfr', 'hpod_measurement_status', 'wys_podstawy_nizszej',\n",
    "                 'hpon_measurement_status', 'wys_postawy_wyszszej', 'hpow_measurement_status',\n",
    "                 'wys_podstawy_tekstowy', 'pomiar_przyz_1_nizsza', 'pomiar_przyz_2_wyzsza', \n",
    "                 'visibility', 'visibility_measurement_status', 'operator_visibility', \n",
    "                 'op_visibility_measurement_status', 'wido_measurement_status', 'visibility_auto',\n",
    "                 'wida_measurement_status', 'general_cloudiness', 'general_cloudiness_measurement_status',\n",
    "                 'wind_direction', 'wind_direction_measurement_status', 'wind_speed', 'fwr_measurement_status',\n",
    "                 'wind_effusion', 'wind_effusion_measurement_status', 'temperature', \n",
    "                 'temperature_measurement_status', 'wet_therm_temp', 'wet_therm_temp_measurement_status',\n",
    "                 'ventilation_indicator', 'ice_indicator', 'steam_pressure', 'steam_pressure_measurement_status',\n",
    "                 'relative_humidity', 'relative_humidity_measurement_status', 'rose_point_temperature',\n",
    "                 'tptr_measurement_status', 'station_pressure', 'station_pressure_measurement_status', \n",
    "                 'sea_level_pressure', 'sea_level_pressure_measurement_status', 'tendency_char',\n",
    "                 'tendency_value', 'app_measurement_status', 'rainfall_in_6_hours', 'rainfall_measurement_status',\n",
    "                 'rainfall_type_in_6_hours', 'ropt_measurement_status', 'current_weather', 'past_weather',\n",
    "                 'low_cloudiness', 'clcm_measurement_status', 'cl_clouds', 'chcl_measurement_status',\n",
    "                 'cl_clouds_text', 'cm_clouds', 'chcm_measurement_status', 'cm_clouds_text', \n",
    "                 'ch_clouds', 'chch_measurement_status', 'ch_clouds_text', 'ground_status', \n",
    "                 'ground_status_measurement_status', 'humidity_defi', 'defi_measurement_status',\n",
    "                 'sun_level', 'sun_level_measurement_status', 'rose_presence', 'rose_presence_measurement_status',\n",
    "                 'max_effusion', 'max_effusion_measurement_status', 'effusion_hour', 'effusion_minute',\n",
    "                 'ground_temp_min_5', 'tg05_measurement_status', 'ground_temp_min_10', 'tg10_measurement_status',\n",
    "                 'ground_temp_min_20', 'tg20_measurement_status', 'ground_temp_min_50', 'tg50_measurement_status',\n",
    "                 'ground_temp_min_100', 'tg100_measurement_status', 'min_temp_in_12', \n",
    "                 'min_temp_in_12_measurement_status', 'max_temp_in_12', 'max_temp_in_12_measurement_status',\n",
    "                 'min_ground_temp_in_12', 'min_ground_temp_in_12_measurement_status', 'snow_water_equivalent', \n",
    "                 'snow_water_equivalent_measurement_status', 'snow_height', 'snow_height_measurement_status',\n",
    "                 'fresh_snow_height', 'fresh_snow_height_measurement_status', 'poletko_snow_height',\n",
    "                 'poletko_snow_height_measurement_status', 'snow_type', 'snow_shape', 'snow_sample_height', \n",
    "                 'snow_sample_height_measurement_status', 'snow_sample_weight', \n",
    "                 'snow_sample_weight_measurement_status'\n",
    "                ]"
   ]
  },
  {
   "cell_type": "code",
   "execution_count": 19,
   "metadata": {},
   "outputs": [
    {
     "data": {
      "text/plain": [
       "str"
      ]
     },
     "execution_count": 19,
     "metadata": {},
     "output_type": "execute_result"
    }
   ],
   "source": [
    "csv_files = [f for f in os.listdir(CLIMATE_DIR) if f.endswith('.csv')]\n",
    "type(csv_files[0])"
   ]
  },
  {
   "cell_type": "code",
   "execution_count": 25,
   "metadata": {},
   "outputs": [],
   "source": [
    "df = pd.read_csv(CLIMATE_DIR + csv_files[0], names=CLIMATE_COLUMNS, encoding='latin')"
   ]
  },
  {
   "cell_type": "code",
   "execution_count": 26,
   "metadata": {},
   "outputs": [
    {
     "data": {
      "text/html": [
       "<div>\n",
       "<style scoped>\n",
       "    .dataframe tbody tr th:only-of-type {\n",
       "        vertical-align: middle;\n",
       "    }\n",
       "\n",
       "    .dataframe tbody tr th {\n",
       "        vertical-align: top;\n",
       "    }\n",
       "\n",
       "    .dataframe thead th {\n",
       "        text-align: right;\n",
       "    }\n",
       "</style>\n",
       "<table border=\"1\" class=\"dataframe\">\n",
       "  <thead>\n",
       "    <tr style=\"text-align: right;\">\n",
       "      <th></th>\n",
       "      <th>station_code</th>\n",
       "      <th>station_name</th>\n",
       "      <th>year</th>\n",
       "      <th>month</th>\n",
       "      <th>day</th>\n",
       "      <th>hour</th>\n",
       "      <th>air_temp</th>\n",
       "      <th>air_temp_measurement_status</th>\n",
       "      <th>wet_therm_temp</th>\n",
       "      <th>wet_therm_temp_measurement_status</th>\n",
       "      <th>...</th>\n",
       "      <th>relative_humidity</th>\n",
       "      <th>relative_humidity_measurement_status</th>\n",
       "      <th>wind_direction_code</th>\n",
       "      <th>dkdk_measurement_status</th>\n",
       "      <th>wind_speed</th>\n",
       "      <th>fwr_measurement_status</th>\n",
       "      <th>general_cloudiness</th>\n",
       "      <th>zogk_measurement_status</th>\n",
       "      <th>visibility_code</th>\n",
       "      <th>wid_measurement_status</th>\n",
       "    </tr>\n",
       "  </thead>\n",
       "  <tbody>\n",
       "    <tr>\n",
       "      <th>0</th>\n",
       "      <td>249180010</td>\n",
       "      <td>PSZCZYNA</td>\n",
       "      <td>2018</td>\n",
       "      <td>1</td>\n",
       "      <td>1</td>\n",
       "      <td>6</td>\n",
       "      <td>4.8</td>\n",
       "      <td>NaN</td>\n",
       "      <td>0.0</td>\n",
       "      <td>8.0</td>\n",
       "      <td>...</td>\n",
       "      <td>0</td>\n",
       "      <td>8.0</td>\n",
       "      <td>NaN</td>\n",
       "      <td>8.0</td>\n",
       "      <td>0</td>\n",
       "      <td>8.0</td>\n",
       "      <td>5</td>\n",
       "      <td>NaN</td>\n",
       "      <td>6</td>\n",
       "      <td>NaN</td>\n",
       "    </tr>\n",
       "    <tr>\n",
       "      <th>1</th>\n",
       "      <td>249180010</td>\n",
       "      <td>PSZCZYNA</td>\n",
       "      <td>2018</td>\n",
       "      <td>1</td>\n",
       "      <td>1</td>\n",
       "      <td>12</td>\n",
       "      <td>5.9</td>\n",
       "      <td>NaN</td>\n",
       "      <td>0.0</td>\n",
       "      <td>8.0</td>\n",
       "      <td>...</td>\n",
       "      <td>0</td>\n",
       "      <td>8.0</td>\n",
       "      <td>NaN</td>\n",
       "      <td>8.0</td>\n",
       "      <td>0</td>\n",
       "      <td>8.0</td>\n",
       "      <td>7</td>\n",
       "      <td>NaN</td>\n",
       "      <td>6</td>\n",
       "      <td>NaN</td>\n",
       "    </tr>\n",
       "    <tr>\n",
       "      <th>2</th>\n",
       "      <td>249180010</td>\n",
       "      <td>PSZCZYNA</td>\n",
       "      <td>2018</td>\n",
       "      <td>1</td>\n",
       "      <td>1</td>\n",
       "      <td>18</td>\n",
       "      <td>5.1</td>\n",
       "      <td>NaN</td>\n",
       "      <td>0.0</td>\n",
       "      <td>8.0</td>\n",
       "      <td>...</td>\n",
       "      <td>0</td>\n",
       "      <td>8.0</td>\n",
       "      <td>NaN</td>\n",
       "      <td>8.0</td>\n",
       "      <td>0</td>\n",
       "      <td>8.0</td>\n",
       "      <td>8</td>\n",
       "      <td>NaN</td>\n",
       "      <td>6</td>\n",
       "      <td>NaN</td>\n",
       "    </tr>\n",
       "    <tr>\n",
       "      <th>3</th>\n",
       "      <td>249180010</td>\n",
       "      <td>PSZCZYNA</td>\n",
       "      <td>2018</td>\n",
       "      <td>1</td>\n",
       "      <td>2</td>\n",
       "      <td>6</td>\n",
       "      <td>-2.4</td>\n",
       "      <td>NaN</td>\n",
       "      <td>0.0</td>\n",
       "      <td>8.0</td>\n",
       "      <td>...</td>\n",
       "      <td>0</td>\n",
       "      <td>8.0</td>\n",
       "      <td>NaN</td>\n",
       "      <td>8.0</td>\n",
       "      <td>0</td>\n",
       "      <td>8.0</td>\n",
       "      <td>3</td>\n",
       "      <td>NaN</td>\n",
       "      <td>7</td>\n",
       "      <td>NaN</td>\n",
       "    </tr>\n",
       "    <tr>\n",
       "      <th>4</th>\n",
       "      <td>249180010</td>\n",
       "      <td>PSZCZYNA</td>\n",
       "      <td>2018</td>\n",
       "      <td>1</td>\n",
       "      <td>2</td>\n",
       "      <td>12</td>\n",
       "      <td>4.6</td>\n",
       "      <td>NaN</td>\n",
       "      <td>0.0</td>\n",
       "      <td>8.0</td>\n",
       "      <td>...</td>\n",
       "      <td>0</td>\n",
       "      <td>8.0</td>\n",
       "      <td>NaN</td>\n",
       "      <td>8.0</td>\n",
       "      <td>0</td>\n",
       "      <td>8.0</td>\n",
       "      <td>7</td>\n",
       "      <td>NaN</td>\n",
       "      <td>6</td>\n",
       "      <td>NaN</td>\n",
       "    </tr>\n",
       "  </tbody>\n",
       "</table>\n",
       "<p>5 rows × 22 columns</p>\n",
       "</div>"
      ],
      "text/plain": [
       "   station_code station_name  year  month  day  hour  air_temp  \\\n",
       "0     249180010     PSZCZYNA  2018      1    1     6       4.8   \n",
       "1     249180010     PSZCZYNA  2018      1    1    12       5.9   \n",
       "2     249180010     PSZCZYNA  2018      1    1    18       5.1   \n",
       "3     249180010     PSZCZYNA  2018      1    2     6      -2.4   \n",
       "4     249180010     PSZCZYNA  2018      1    2    12       4.6   \n",
       "\n",
       "   air_temp_measurement_status  wet_therm_temp  \\\n",
       "0                          NaN             0.0   \n",
       "1                          NaN             0.0   \n",
       "2                          NaN             0.0   \n",
       "3                          NaN             0.0   \n",
       "4                          NaN             0.0   \n",
       "\n",
       "   wet_therm_temp_measurement_status           ...            \\\n",
       "0                                8.0           ...             \n",
       "1                                8.0           ...             \n",
       "2                                8.0           ...             \n",
       "3                                8.0           ...             \n",
       "4                                8.0           ...             \n",
       "\n",
       "  relative_humidity relative_humidity_measurement_status  wind_direction_code  \\\n",
       "0                 0                                  8.0                  NaN   \n",
       "1                 0                                  8.0                  NaN   \n",
       "2                 0                                  8.0                  NaN   \n",
       "3                 0                                  8.0                  NaN   \n",
       "4                 0                                  8.0                  NaN   \n",
       "\n",
       "   dkdk_measurement_status wind_speed  fwr_measurement_status  \\\n",
       "0                      8.0          0                     8.0   \n",
       "1                      8.0          0                     8.0   \n",
       "2                      8.0          0                     8.0   \n",
       "3                      8.0          0                     8.0   \n",
       "4                      8.0          0                     8.0   \n",
       "\n",
       "   general_cloudiness  zogk_measurement_status  visibility_code  \\\n",
       "0                   5                      NaN                6   \n",
       "1                   7                      NaN                6   \n",
       "2                   8                      NaN                6   \n",
       "3                   3                      NaN                7   \n",
       "4                   7                      NaN                6   \n",
       "\n",
       "   wid_measurement_status  \n",
       "0                     NaN  \n",
       "1                     NaN  \n",
       "2                     NaN  \n",
       "3                     NaN  \n",
       "4                     NaN  \n",
       "\n",
       "[5 rows x 22 columns]"
      ]
     },
     "execution_count": 26,
     "metadata": {},
     "output_type": "execute_result"
    }
   ],
   "source": [
    "df.head()"
   ]
  },
  {
   "cell_type": "code",
   "execution_count": 28,
   "metadata": {},
   "outputs": [
    {
     "data": {
      "text/plain": [
       "71"
      ]
     },
     "execution_count": 28,
     "metadata": {},
     "output_type": "execute_result"
    }
   ],
   "source": [
    "len(df['station_name'].value_counts())"
   ]
  },
  {
   "cell_type": "code",
   "execution_count": 31,
   "metadata": {},
   "outputs": [
    {
     "data": {
      "text/plain": [
       "6541"
      ]
     },
     "execution_count": 31,
     "metadata": {},
     "output_type": "execute_result"
    }
   ],
   "source": [
    "len(pd.concat([df]))"
   ]
  },
  {
   "cell_type": "code",
   "execution_count": 36,
   "metadata": {},
   "outputs": [],
   "source": [
    "def concatenate_files(directory, column_names):\n",
    "    csv_files = [f for f in os.listdir(directory) if f.endswith('.csv')]\n",
    "    dfs = [pd.read_csv(directory + filename, names=column_names, encoding='latin') for filename in csv_files]\n",
    "    return pd.concat(dfs)"
   ]
  },
  {
   "cell_type": "code",
   "execution_count": 45,
   "metadata": {},
   "outputs": [],
   "source": [
    "climate_df = concatenate_files(CLIMATE_DIR, CLIMATE_COLUMNS)"
   ]
  },
  {
   "cell_type": "code",
   "execution_count": 46,
   "metadata": {},
   "outputs": [],
   "source": [
    "climate_df.to_csv('climate_data.csv', encoding='utf-8', index=False)"
   ]
  },
  {
   "cell_type": "code",
   "execution_count": 38,
   "metadata": {},
   "outputs": [
    {
     "data": {
      "text/plain": [
       "83851"
      ]
     },
     "execution_count": 38,
     "metadata": {},
     "output_type": "execute_result"
    }
   ],
   "source": [
    "len(climate_df)"
   ]
  },
  {
   "cell_type": "code",
   "execution_count": 41,
   "metadata": {},
   "outputs": [
    {
     "name": "stderr",
     "output_type": "stream",
     "text": [
      "c:\\users\\centu\\appdata\\local\\programs\\python\\python36\\lib\\site-packages\\IPython\\core\\interactiveshell.py:2910: DtypeWarning: Columns (6,56) have mixed types. Specify dtype option on import or set low_memory=False.\n",
      "  exec(code_obj, self.user_global_ns, self.user_ns)\n",
      "c:\\users\\centu\\appdata\\local\\programs\\python\\python36\\lib\\site-packages\\IPython\\core\\interactiveshell.py:2910: DtypeWarning: Columns (53) have mixed types. Specify dtype option on import or set low_memory=False.\n",
      "  exec(code_obj, self.user_global_ns, self.user_ns)\n",
      "c:\\users\\centu\\appdata\\local\\programs\\python\\python36\\lib\\site-packages\\IPython\\core\\interactiveshell.py:2910: DtypeWarning: Columns (6,12,56,58,59,61,62,64) have mixed types. Specify dtype option on import or set low_memory=False.\n",
      "  exec(code_obj, self.user_global_ns, self.user_ns)\n",
      "c:\\users\\centu\\appdata\\local\\programs\\python\\python36\\lib\\site-packages\\IPython\\core\\interactiveshell.py:2910: DtypeWarning: Columns (6,34,56) have mixed types. Specify dtype option on import or set low_memory=False.\n",
      "  exec(code_obj, self.user_global_ns, self.user_ns)\n",
      "c:\\users\\centu\\appdata\\local\\programs\\python\\python36\\lib\\site-packages\\IPython\\core\\interactiveshell.py:2910: DtypeWarning: Columns (6,54) have mixed types. Specify dtype option on import or set low_memory=False.\n",
      "  exec(code_obj, self.user_global_ns, self.user_ns)\n",
      "c:\\users\\centu\\appdata\\local\\programs\\python\\python36\\lib\\site-packages\\IPython\\core\\interactiveshell.py:2910: DtypeWarning: Columns (34) have mixed types. Specify dtype option on import or set low_memory=False.\n",
      "  exec(code_obj, self.user_global_ns, self.user_ns)\n",
      "c:\\users\\centu\\appdata\\local\\programs\\python\\python36\\lib\\site-packages\\IPython\\core\\interactiveshell.py:2910: DtypeWarning: Columns (6,13,14,53,54) have mixed types. Specify dtype option on import or set low_memory=False.\n",
      "  exec(code_obj, self.user_global_ns, self.user_ns)\n",
      "c:\\users\\centu\\appdata\\local\\programs\\python\\python36\\lib\\site-packages\\IPython\\core\\interactiveshell.py:2910: DtypeWarning: Columns (13,14) have mixed types. Specify dtype option on import or set low_memory=False.\n",
      "  exec(code_obj, self.user_global_ns, self.user_ns)\n",
      "c:\\users\\centu\\appdata\\local\\programs\\python\\python36\\lib\\site-packages\\IPython\\core\\interactiveshell.py:2910: DtypeWarning: Columns (54) have mixed types. Specify dtype option on import or set low_memory=False.\n",
      "  exec(code_obj, self.user_global_ns, self.user_ns)\n",
      "c:\\users\\centu\\appdata\\local\\programs\\python\\python36\\lib\\site-packages\\IPython\\core\\interactiveshell.py:2910: DtypeWarning: Columns (6,14,56) have mixed types. Specify dtype option on import or set low_memory=False.\n",
      "  exec(code_obj, self.user_global_ns, self.user_ns)\n",
      "c:\\users\\centu\\appdata\\local\\programs\\python\\python36\\lib\\site-packages\\IPython\\core\\interactiveshell.py:2910: DtypeWarning: Columns (6,12,53,54,58,61,64,101,102) have mixed types. Specify dtype option on import or set low_memory=False.\n",
      "  exec(code_obj, self.user_global_ns, self.user_ns)\n",
      "c:\\users\\centu\\appdata\\local\\programs\\python\\python36\\lib\\site-packages\\IPython\\core\\interactiveshell.py:2910: DtypeWarning: Columns (12,101,102) have mixed types. Specify dtype option on import or set low_memory=False.\n",
      "  exec(code_obj, self.user_global_ns, self.user_ns)\n",
      "c:\\users\\centu\\appdata\\local\\programs\\python\\python36\\lib\\site-packages\\IPython\\core\\interactiveshell.py:2910: DtypeWarning: Columns (6,54,56) have mixed types. Specify dtype option on import or set low_memory=False.\n",
      "  exec(code_obj, self.user_global_ns, self.user_ns)\n",
      "c:\\users\\centu\\appdata\\local\\programs\\python\\python36\\lib\\site-packages\\IPython\\core\\interactiveshell.py:2910: DtypeWarning: Columns (6,53,56) have mixed types. Specify dtype option on import or set low_memory=False.\n",
      "  exec(code_obj, self.user_global_ns, self.user_ns)\n",
      "c:\\users\\centu\\appdata\\local\\programs\\python\\python36\\lib\\site-packages\\IPython\\core\\interactiveshell.py:2910: DtypeWarning: Columns (14,53) have mixed types. Specify dtype option on import or set low_memory=False.\n",
      "  exec(code_obj, self.user_global_ns, self.user_ns)\n",
      "c:\\users\\centu\\appdata\\local\\programs\\python\\python36\\lib\\site-packages\\IPython\\core\\interactiveshell.py:2910: DtypeWarning: Columns (14) have mixed types. Specify dtype option on import or set low_memory=False.\n",
      "  exec(code_obj, self.user_global_ns, self.user_ns)\n",
      "c:\\users\\centu\\appdata\\local\\programs\\python\\python36\\lib\\site-packages\\IPython\\core\\interactiveshell.py:2910: DtypeWarning: Columns (101,102) have mixed types. Specify dtype option on import or set low_memory=False.\n",
      "  exec(code_obj, self.user_global_ns, self.user_ns)\n"
     ]
    }
   ],
   "source": [
    "synop_df = concatenate_files(SYNOP_DIR, SYNOP_COLUMNS)"
   ]
  },
  {
   "cell_type": "code",
   "execution_count": 56,
   "metadata": {},
   "outputs": [],
   "source": [
    "def correct_month_day(num):\n",
    "    if len(num) == 1:\n",
    "        return '0' + num\n",
    "    else:\n",
    "        return num"
   ]
  },
  {
   "cell_type": "code",
   "execution_count": 57,
   "metadata": {},
   "outputs": [],
   "source": [
    "synop_df['date'] = synop_df['year'].map(str) + '-' + synop_df['month'].map(str).apply(correct_month_day) + '-' + synop_df['day'].map(str).apply(correct_month_day)"
   ]
  },
  {
   "cell_type": "code",
   "execution_count": 58,
   "metadata": {},
   "outputs": [
    {
     "data": {
      "text/plain": [
       "0    2017-01-01\n",
       "1    2017-01-01\n",
       "2    2017-01-01\n",
       "3    2017-01-01\n",
       "4    2017-01-01\n",
       "Name: date, dtype: object"
      ]
     },
     "execution_count": 58,
     "metadata": {},
     "output_type": "execute_result"
    }
   ],
   "source": [
    "synop_df['date'].head()"
   ]
  },
  {
   "cell_type": "code",
   "execution_count": 59,
   "metadata": {},
   "outputs": [],
   "source": [
    "synop_df['date'] = pd.to_datetime(synop_df['date'], infer_datetime_format=True)"
   ]
  },
  {
   "cell_type": "code",
   "execution_count": 60,
   "metadata": {},
   "outputs": [],
   "source": [
    "synop_df_cut = synop_df.loc[synop_df['date'] > '2017-12-09']"
   ]
  },
  {
   "cell_type": "code",
   "execution_count": 61,
   "metadata": {},
   "outputs": [],
   "source": [
    "synop_df_cut = synop_df_cut.loc[synop_df_cut['date'] < '2018-12-09']"
   ]
  },
  {
   "cell_type": "code",
   "execution_count": 62,
   "metadata": {},
   "outputs": [
    {
     "data": {
      "text/plain": [
       "499017"
      ]
     },
     "execution_count": 62,
     "metadata": {},
     "output_type": "execute_result"
    }
   ],
   "source": [
    "len(synop_df_cut)"
   ]
  },
  {
   "cell_type": "code",
   "execution_count": 72,
   "metadata": {},
   "outputs": [],
   "source": [
    "synop_df_cut.to_csv('synop_data.csv', index=False)"
   ]
  },
  {
   "cell_type": "code",
   "execution_count": 64,
   "metadata": {},
   "outputs": [],
   "source": [
    "climate_df['date'] = climate_df['year'].map(str) + '-' + climate_df['month'].map(str).apply(correct_month_day) + '-' + climate_df['day'].map(str).apply(correct_month_day)"
   ]
  },
  {
   "cell_type": "code",
   "execution_count": 66,
   "metadata": {},
   "outputs": [],
   "source": [
    "climate_df['date'] = pd.to_datetime(climate_df['date'], infer_datetime_format=True)"
   ]
  },
  {
   "cell_type": "code",
   "execution_count": 68,
   "metadata": {},
   "outputs": [],
   "source": [
    "climate_df_cut = climate_df.loc[climate_df['date'] > '2017-12-09']"
   ]
  },
  {
   "cell_type": "code",
   "execution_count": 69,
   "metadata": {},
   "outputs": [],
   "source": [
    "climate_df_cut = climate_df_cut.loc[climate_df_cut['date'] < '2018-12-09']"
   ]
  },
  {
   "cell_type": "code",
   "execution_count": 71,
   "metadata": {},
   "outputs": [],
   "source": [
    "climate_df_cut.to_csv('climate_data.csv', index=False)"
   ]
  },
  {
   "cell_type": "code",
   "execution_count": 75,
   "metadata": {},
   "outputs": [],
   "source": [
    "s_stations = synop_df_cut['station_name'].value_counts().index.tolist()"
   ]
  },
  {
   "cell_type": "code",
   "execution_count": 76,
   "metadata": {},
   "outputs": [],
   "source": [
    "c_stations = climate_df_cut['station_name'].value_counts().index.tolist()"
   ]
  },
  {
   "cell_type": "code",
   "execution_count": 78,
   "metadata": {},
   "outputs": [
    {
     "data": {
      "text/plain": [
       "1"
      ]
     },
     "execution_count": 78,
     "metadata": {},
     "output_type": "execute_result"
    }
   ],
   "source": [
    "len(set(s_stations) & set(c_stations))"
   ]
  },
  {
   "cell_type": "code",
   "execution_count": null,
   "metadata": {},
   "outputs": [],
   "source": []
  }
 ],
 "metadata": {
  "kernelspec": {
   "display_name": "Python 3",
   "language": "python",
   "name": "python3"
  },
  "language_info": {
   "codemirror_mode": {
    "name": "ipython",
    "version": 3
   },
   "file_extension": ".py",
   "mimetype": "text/x-python",
   "name": "python",
   "nbconvert_exporter": "python",
   "pygments_lexer": "ipython3",
   "version": "3.6.4"
  }
 },
 "nbformat": 4,
 "nbformat_minor": 2
}
