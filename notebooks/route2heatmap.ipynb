{
 "cells": [
  {
   "cell_type": "code",
   "execution_count": 81,
   "metadata": {},
   "outputs": [],
   "source": [
    "import numpy as np\n",
    "import pandas as pd"
   ]
  },
  {
   "cell_type": "code",
   "execution_count": 98,
   "metadata": {},
   "outputs": [],
   "source": [
    "raw_route_data = \"D:/proj/ipa/schedule_info.csv\"\n",
    "intermediate_aggregated_delays = \"D:/proj/ipa/aggregated_delays.pkl\"\n",
    "stations_lat_lon = \"C:/proj/complex-data-analysis/data/stations_coordinates.csv\"\n",
    "final_data = \"D:/proj/ipa/delays_on_stations.csv\"\n",
    "\n",
    "MINIMUM_DELAY = 15.0\n",
    "DATE_FROM = \"2018-06-01\"\n",
    "DATE_TO = \"2018-06-07\""
   ]
  },
  {
   "cell_type": "markdown",
   "metadata": {},
   "source": [
    "### Load data"
   ]
  },
  {
   "cell_type": "code",
   "execution_count": 99,
   "metadata": {},
   "outputs": [],
   "source": [
    "routes = pd.read_csv(raw_route_data, header=None)\n",
    "columns = [\"schedule_id\", \"stop_number\", \"station_id\", \"arrival_time\", \"arrival_delay\", \"departure_time\", \"departure_delay\"]\n",
    "routes.columns = columns"
   ]
  },
  {
   "cell_type": "markdown",
   "metadata": {},
   "source": [
    "### Fill missing data on start/end of route"
   ]
  },
  {
   "cell_type": "code",
   "execution_count": 100,
   "metadata": {},
   "outputs": [],
   "source": [
    "# Missing delays\n",
    "routes[[\"arrival_delay\", \"departure_delay\"]] = routes[[\"arrival_delay\", \"departure_delay\"]].fillna(0.0)\n",
    "\n",
    "# Missing departure times\n",
    "routes[\"departure_time\"] = routes[\"departure_time\"].fillna(routes[\"arrival_time\"])"
   ]
  },
  {
   "cell_type": "code",
   "execution_count": 101,
   "metadata": {},
   "outputs": [
    {
     "data": {
      "text/html": [
       "<div>\n",
       "<style scoped>\n",
       "    .dataframe tbody tr th:only-of-type {\n",
       "        vertical-align: middle;\n",
       "    }\n",
       "\n",
       "    .dataframe tbody tr th {\n",
       "        vertical-align: top;\n",
       "    }\n",
       "\n",
       "    .dataframe thead th {\n",
       "        text-align: right;\n",
       "    }\n",
       "</style>\n",
       "<table border=\"1\" class=\"dataframe\">\n",
       "  <thead>\n",
       "    <tr style=\"text-align: right;\">\n",
       "      <th></th>\n",
       "      <th>schedule_id</th>\n",
       "      <th>stop_number</th>\n",
       "      <th>station_id</th>\n",
       "      <th>arrival_time</th>\n",
       "      <th>arrival_delay</th>\n",
       "      <th>departure_time</th>\n",
       "      <th>departure_delay</th>\n",
       "    </tr>\n",
       "  </thead>\n",
       "  <tbody>\n",
       "    <tr>\n",
       "      <th>16162901</th>\n",
       "      <td>53564670</td>\n",
       "      <td>32</td>\n",
       "      <td>1570</td>\n",
       "      <td>2018-12-08 00:34:30</td>\n",
       "      <td>0.0</td>\n",
       "      <td>2018-12-08 00:35:00</td>\n",
       "      <td>0.0</td>\n",
       "    </tr>\n",
       "    <tr>\n",
       "      <th>16162902</th>\n",
       "      <td>53564670</td>\n",
       "      <td>33</td>\n",
       "      <td>1571</td>\n",
       "      <td>2018-12-08 00:38:00</td>\n",
       "      <td>0.0</td>\n",
       "      <td>2018-12-08 00:38:30</td>\n",
       "      <td>0.0</td>\n",
       "    </tr>\n",
       "    <tr>\n",
       "      <th>16162903</th>\n",
       "      <td>53564670</td>\n",
       "      <td>34</td>\n",
       "      <td>1572</td>\n",
       "      <td>2018-12-08 00:40:30</td>\n",
       "      <td>0.0</td>\n",
       "      <td>2018-12-08 00:41:00</td>\n",
       "      <td>0.0</td>\n",
       "    </tr>\n",
       "    <tr>\n",
       "      <th>16162904</th>\n",
       "      <td>53564670</td>\n",
       "      <td>35</td>\n",
       "      <td>1573</td>\n",
       "      <td>2018-12-08 00:43:30</td>\n",
       "      <td>0.0</td>\n",
       "      <td>2018-12-08 00:44:00</td>\n",
       "      <td>0.0</td>\n",
       "    </tr>\n",
       "    <tr>\n",
       "      <th>16162905</th>\n",
       "      <td>53564670</td>\n",
       "      <td>36</td>\n",
       "      <td>173</td>\n",
       "      <td>2018-12-08 00:49:00</td>\n",
       "      <td>0.0</td>\n",
       "      <td>2018-12-08 00:49:00</td>\n",
       "      <td>0.0</td>\n",
       "    </tr>\n",
       "  </tbody>\n",
       "</table>\n",
       "</div>"
      ],
      "text/plain": [
       "          schedule_id  stop_number  station_id         arrival_time  \\\n",
       "16162901     53564670           32        1570  2018-12-08 00:34:30   \n",
       "16162902     53564670           33        1571  2018-12-08 00:38:00   \n",
       "16162903     53564670           34        1572  2018-12-08 00:40:30   \n",
       "16162904     53564670           35        1573  2018-12-08 00:43:30   \n",
       "16162905     53564670           36         173  2018-12-08 00:49:00   \n",
       "\n",
       "          arrival_delay       departure_time  departure_delay  \n",
       "16162901            0.0  2018-12-08 00:35:00              0.0  \n",
       "16162902            0.0  2018-12-08 00:38:30              0.0  \n",
       "16162903            0.0  2018-12-08 00:41:00              0.0  \n",
       "16162904            0.0  2018-12-08 00:44:00              0.0  \n",
       "16162905            0.0  2018-12-08 00:49:00              0.0  "
      ]
     },
     "execution_count": 101,
     "metadata": {},
     "output_type": "execute_result"
    }
   ],
   "source": [
    "routes.tail()"
   ]
  },
  {
   "cell_type": "markdown",
   "metadata": {},
   "source": [
    "### Prepare data for rolling aggregations"
   ]
  },
  {
   "cell_type": "code",
   "execution_count": 102,
   "metadata": {},
   "outputs": [],
   "source": [
    "# Here, we consider only departure delays\n",
    "is_delayed = routes[\"departure_delay\"] > MINIMUM_DELAY\n",
    "\n",
    "# Subset one month\n",
    "one_month = (routes[\"departure_time\"] > DATE_FROM) & (routes[\"departure_time\"] <= DATE_TO)"
   ]
  },
  {
   "cell_type": "code",
   "execution_count": 103,
   "metadata": {},
   "outputs": [],
   "source": [
    "# Filter delayed departures\n",
    "delayed_routes = routes[is_delayed & one_month]\n",
    "delayed_routes = delayed_routes[[\"station_id\", \"departure_time\", \"departure_delay\"]]\n",
    "\n",
    "# Convert departure time to datetime series\n",
    "delayed_routes[\"departure_time\"] = pd.to_datetime(delayed_routes[\"departure_time\"])\n",
    "\n",
    "# Set departure_time as index\n",
    "delayed_routes = delayed_routes.set_index(\"departure_time\")"
   ]
  },
  {
   "cell_type": "code",
   "execution_count": 104,
   "metadata": {},
   "outputs": [
    {
     "data": {
      "text/html": [
       "<div>\n",
       "<style scoped>\n",
       "    .dataframe tbody tr th:only-of-type {\n",
       "        vertical-align: middle;\n",
       "    }\n",
       "\n",
       "    .dataframe tbody tr th {\n",
       "        vertical-align: top;\n",
       "    }\n",
       "\n",
       "    .dataframe thead th {\n",
       "        text-align: right;\n",
       "    }\n",
       "</style>\n",
       "<table border=\"1\" class=\"dataframe\">\n",
       "  <thead>\n",
       "    <tr style=\"text-align: right;\">\n",
       "      <th></th>\n",
       "      <th>station_id</th>\n",
       "      <th>departure_delay</th>\n",
       "    </tr>\n",
       "    <tr>\n",
       "      <th>departure_time</th>\n",
       "      <th></th>\n",
       "      <th></th>\n",
       "    </tr>\n",
       "  </thead>\n",
       "  <tbody>\n",
       "    <tr>\n",
       "      <th>2018-06-01 23:09:00</th>\n",
       "      <td>47</td>\n",
       "      <td>28.0</td>\n",
       "    </tr>\n",
       "    <tr>\n",
       "      <th>2018-06-01 23:14:30</th>\n",
       "      <td>251</td>\n",
       "      <td>29.0</td>\n",
       "    </tr>\n",
       "    <tr>\n",
       "      <th>2018-06-01 23:22:00</th>\n",
       "      <td>250</td>\n",
       "      <td>29.0</td>\n",
       "    </tr>\n",
       "    <tr>\n",
       "      <th>2018-06-01 23:25:00</th>\n",
       "      <td>249</td>\n",
       "      <td>28.0</td>\n",
       "    </tr>\n",
       "    <tr>\n",
       "      <th>2018-06-01 23:28:30</th>\n",
       "      <td>248</td>\n",
       "      <td>27.0</td>\n",
       "    </tr>\n",
       "  </tbody>\n",
       "</table>\n",
       "</div>"
      ],
      "text/plain": [
       "                     station_id  departure_delay\n",
       "departure_time                                  \n",
       "2018-06-01 23:09:00          47             28.0\n",
       "2018-06-01 23:14:30         251             29.0\n",
       "2018-06-01 23:22:00         250             29.0\n",
       "2018-06-01 23:25:00         249             28.0\n",
       "2018-06-01 23:28:30         248             27.0"
      ]
     },
     "execution_count": 104,
     "metadata": {},
     "output_type": "execute_result"
    }
   ],
   "source": [
    "delayed_routes.head()"
   ]
  },
  {
   "cell_type": "markdown",
   "metadata": {},
   "source": [
    "### Aggregate delays in 15-minute timeframe\n",
    "Done by grouping by `departure_time` using `pd.Grouper` with 15 minutes frequency."
   ]
  },
  {
   "cell_type": "code",
   "execution_count": 105,
   "metadata": {},
   "outputs": [],
   "source": [
    "accumulated_delays = delayed_routes.groupby(\n",
    "    [\n",
    "        pd.Grouper(level=\"departure_time\", freq=\"15min\"), \n",
    "        \"station_id\"\n",
    "    ]\n",
    ").sum()\n"
   ]
  },
  {
   "cell_type": "code",
   "execution_count": 106,
   "metadata": {},
   "outputs": [
    {
     "data": {
      "text/html": [
       "<div>\n",
       "<style scoped>\n",
       "    .dataframe tbody tr th:only-of-type {\n",
       "        vertical-align: middle;\n",
       "    }\n",
       "\n",
       "    .dataframe tbody tr th {\n",
       "        vertical-align: top;\n",
       "    }\n",
       "\n",
       "    .dataframe thead th {\n",
       "        text-align: right;\n",
       "    }\n",
       "</style>\n",
       "<table border=\"1\" class=\"dataframe\">\n",
       "  <thead>\n",
       "    <tr style=\"text-align: right;\">\n",
       "      <th></th>\n",
       "      <th></th>\n",
       "      <th>departure_delay</th>\n",
       "    </tr>\n",
       "    <tr>\n",
       "      <th>departure_time</th>\n",
       "      <th>station_id</th>\n",
       "      <th></th>\n",
       "    </tr>\n",
       "  </thead>\n",
       "  <tbody>\n",
       "    <tr>\n",
       "      <th>2018-06-01 00:00:00</th>\n",
       "      <th>243</th>\n",
       "      <td>22.0</td>\n",
       "    </tr>\n",
       "    <tr>\n",
       "      <th>2018-06-01 00:30:00</th>\n",
       "      <th>238</th>\n",
       "      <td>70.0</td>\n",
       "    </tr>\n",
       "    <tr>\n",
       "      <th>2018-06-01 00:45:00</th>\n",
       "      <th>204</th>\n",
       "      <td>25.0</td>\n",
       "    </tr>\n",
       "    <tr>\n",
       "      <th>2018-06-01 01:00:00</th>\n",
       "      <th>107</th>\n",
       "      <td>75.0</td>\n",
       "    </tr>\n",
       "    <tr>\n",
       "      <th>2018-06-01 01:15:00</th>\n",
       "      <th>108</th>\n",
       "      <td>71.0</td>\n",
       "    </tr>\n",
       "    <tr>\n",
       "      <th rowspan=\"3\" valign=\"top\">2018-06-01 01:30:00</th>\n",
       "      <th>43</th>\n",
       "      <td>53.0</td>\n",
       "    </tr>\n",
       "    <tr>\n",
       "      <th>109</th>\n",
       "      <td>62.0</td>\n",
       "    </tr>\n",
       "    <tr>\n",
       "      <th>118</th>\n",
       "      <td>21.0</td>\n",
       "    </tr>\n",
       "    <tr>\n",
       "      <th>2018-06-01 01:45:00</th>\n",
       "      <th>42</th>\n",
       "      <td>50.0</td>\n",
       "    </tr>\n",
       "    <tr>\n",
       "      <th>2018-06-01 02:00:00</th>\n",
       "      <th>41</th>\n",
       "      <td>43.0</td>\n",
       "    </tr>\n",
       "  </tbody>\n",
       "</table>\n",
       "</div>"
      ],
      "text/plain": [
       "                                departure_delay\n",
       "departure_time      station_id                 \n",
       "2018-06-01 00:00:00 243                    22.0\n",
       "2018-06-01 00:30:00 238                    70.0\n",
       "2018-06-01 00:45:00 204                    25.0\n",
       "2018-06-01 01:00:00 107                    75.0\n",
       "2018-06-01 01:15:00 108                    71.0\n",
       "2018-06-01 01:30:00 43                     53.0\n",
       "                    109                    62.0\n",
       "                    118                    21.0\n",
       "2018-06-01 01:45:00 42                     50.0\n",
       "2018-06-01 02:00:00 41                     43.0"
      ]
     },
     "execution_count": 106,
     "metadata": {},
     "output_type": "execute_result"
    }
   ],
   "source": [
    "accumulated_delays.head(n=10)"
   ]
  },
  {
   "cell_type": "code",
   "execution_count": 107,
   "metadata": {},
   "outputs": [
    {
     "data": {
      "text/plain": [
       "(13337, 1)"
      ]
     },
     "execution_count": 107,
     "metadata": {},
     "output_type": "execute_result"
    }
   ],
   "source": [
    "accumulated_delays.shape"
   ]
  },
  {
   "cell_type": "code",
   "execution_count": 108,
   "metadata": {},
   "outputs": [],
   "source": [
    "accumulated_delays.to_pickle(intermediate_aggregated_delays)"
   ]
  },
  {
   "cell_type": "markdown",
   "metadata": {},
   "source": [
    "### Join stations with lat/lon"
   ]
  },
  {
   "cell_type": "code",
   "execution_count": 109,
   "metadata": {},
   "outputs": [],
   "source": [
    "stations = pd.read_csv(stations_lat_lon)\n",
    "stations.columns = [\"station_id\", \"station\", \"latitude\", \"longitude\"]\n",
    "stations = stations.set_index(\"station_id\")"
   ]
  },
  {
   "cell_type": "code",
   "execution_count": 110,
   "metadata": {},
   "outputs": [
    {
     "data": {
      "text/html": [
       "<div>\n",
       "<style scoped>\n",
       "    .dataframe tbody tr th:only-of-type {\n",
       "        vertical-align: middle;\n",
       "    }\n",
       "\n",
       "    .dataframe tbody tr th {\n",
       "        vertical-align: top;\n",
       "    }\n",
       "\n",
       "    .dataframe thead th {\n",
       "        text-align: right;\n",
       "    }\n",
       "</style>\n",
       "<table border=\"1\" class=\"dataframe\">\n",
       "  <thead>\n",
       "    <tr style=\"text-align: right;\">\n",
       "      <th></th>\n",
       "      <th>station</th>\n",
       "      <th>latitude</th>\n",
       "      <th>longitude</th>\n",
       "    </tr>\n",
       "    <tr>\n",
       "      <th>station_id</th>\n",
       "      <th></th>\n",
       "      <th></th>\n",
       "      <th></th>\n",
       "    </tr>\n",
       "  </thead>\n",
       "  <tbody>\n",
       "    <tr>\n",
       "      <th>181</th>\n",
       "      <td>Aleksandrów Kujawski</td>\n",
       "      <td>52.875865</td>\n",
       "      <td>18.696391</td>\n",
       "    </tr>\n",
       "    <tr>\n",
       "      <th>1321</th>\n",
       "      <td>Andrychów</td>\n",
       "      <td>49.855792</td>\n",
       "      <td>19.353358</td>\n",
       "    </tr>\n",
       "    <tr>\n",
       "      <th>1322</th>\n",
       "      <td>Andrychów Górnica</td>\n",
       "      <td>49.858467</td>\n",
       "      <td>19.323956</td>\n",
       "    </tr>\n",
       "    <tr>\n",
       "      <th>1644</th>\n",
       "      <td>Andrzejówka</td>\n",
       "      <td>51.173162</td>\n",
       "      <td>15.521410</td>\n",
       "    </tr>\n",
       "    <tr>\n",
       "      <th>1000</th>\n",
       "      <td>Anieliny</td>\n",
       "      <td>53.129123</td>\n",
       "      <td>17.486455</td>\n",
       "    </tr>\n",
       "  </tbody>\n",
       "</table>\n",
       "</div>"
      ],
      "text/plain": [
       "                         station   latitude  longitude\n",
       "station_id                                            \n",
       "181         Aleksandrów Kujawski  52.875865  18.696391\n",
       "1321                   Andrychów  49.855792  19.353358\n",
       "1322           Andrychów Górnica  49.858467  19.323956\n",
       "1644                 Andrzejówka  51.173162  15.521410\n",
       "1000                    Anieliny  53.129123  17.486455"
      ]
     },
     "execution_count": 110,
     "metadata": {},
     "output_type": "execute_result"
    }
   ],
   "source": [
    "stations.head()"
   ]
  },
  {
   "cell_type": "code",
   "execution_count": 111,
   "metadata": {},
   "outputs": [],
   "source": [
    "accumulated_delays = accumulated_delays.reset_index()\n",
    "station_delays = accumulated_delays.merge(stations, on=\"station_id\")"
   ]
  },
  {
   "cell_type": "code",
   "execution_count": 112,
   "metadata": {},
   "outputs": [
    {
     "data": {
      "text/html": [
       "<div>\n",
       "<style scoped>\n",
       "    .dataframe tbody tr th:only-of-type {\n",
       "        vertical-align: middle;\n",
       "    }\n",
       "\n",
       "    .dataframe tbody tr th {\n",
       "        vertical-align: top;\n",
       "    }\n",
       "\n",
       "    .dataframe thead th {\n",
       "        text-align: right;\n",
       "    }\n",
       "</style>\n",
       "<table border=\"1\" class=\"dataframe\">\n",
       "  <thead>\n",
       "    <tr style=\"text-align: right;\">\n",
       "      <th></th>\n",
       "      <th>departure_time</th>\n",
       "      <th>station_id</th>\n",
       "      <th>departure_delay</th>\n",
       "      <th>station</th>\n",
       "      <th>latitude</th>\n",
       "      <th>longitude</th>\n",
       "    </tr>\n",
       "  </thead>\n",
       "  <tbody>\n",
       "    <tr>\n",
       "      <th>0</th>\n",
       "      <td>2018-06-01 00:00:00</td>\n",
       "      <td>243</td>\n",
       "      <td>22.0</td>\n",
       "      <td>Dulowa</td>\n",
       "      <td>50.140444</td>\n",
       "      <td>19.52075</td>\n",
       "    </tr>\n",
       "    <tr>\n",
       "      <th>1</th>\n",
       "      <td>2018-06-02 10:45:00</td>\n",
       "      <td>243</td>\n",
       "      <td>35.0</td>\n",
       "      <td>Dulowa</td>\n",
       "      <td>50.140444</td>\n",
       "      <td>19.52075</td>\n",
       "    </tr>\n",
       "    <tr>\n",
       "      <th>2</th>\n",
       "      <td>2018-06-02 14:30:00</td>\n",
       "      <td>243</td>\n",
       "      <td>19.0</td>\n",
       "      <td>Dulowa</td>\n",
       "      <td>50.140444</td>\n",
       "      <td>19.52075</td>\n",
       "    </tr>\n",
       "    <tr>\n",
       "      <th>3</th>\n",
       "      <td>2018-06-02 19:30:00</td>\n",
       "      <td>243</td>\n",
       "      <td>24.0</td>\n",
       "      <td>Dulowa</td>\n",
       "      <td>50.140444</td>\n",
       "      <td>19.52075</td>\n",
       "    </tr>\n",
       "    <tr>\n",
       "      <th>4</th>\n",
       "      <td>2018-06-03 13:45:00</td>\n",
       "      <td>243</td>\n",
       "      <td>56.0</td>\n",
       "      <td>Dulowa</td>\n",
       "      <td>50.140444</td>\n",
       "      <td>19.52075</td>\n",
       "    </tr>\n",
       "  </tbody>\n",
       "</table>\n",
       "</div>"
      ],
      "text/plain": [
       "       departure_time  station_id  departure_delay station   latitude  \\\n",
       "0 2018-06-01 00:00:00         243             22.0  Dulowa  50.140444   \n",
       "1 2018-06-02 10:45:00         243             35.0  Dulowa  50.140444   \n",
       "2 2018-06-02 14:30:00         243             19.0  Dulowa  50.140444   \n",
       "3 2018-06-02 19:30:00         243             24.0  Dulowa  50.140444   \n",
       "4 2018-06-03 13:45:00         243             56.0  Dulowa  50.140444   \n",
       "\n",
       "   longitude  \n",
       "0   19.52075  \n",
       "1   19.52075  \n",
       "2   19.52075  \n",
       "3   19.52075  \n",
       "4   19.52075  "
      ]
     },
     "execution_count": 112,
     "metadata": {},
     "output_type": "execute_result"
    }
   ],
   "source": [
    "station_delays.head()"
   ]
  },
  {
   "cell_type": "code",
   "execution_count": 113,
   "metadata": {},
   "outputs": [],
   "source": [
    "station_delays[[\"departure_time\", \"departure_delay\", \"latitude\", \"longitude\"]].to_csv(final_data)"
   ]
  }
 ],
 "metadata": {
  "kernelspec": {
   "display_name": "Python 3",
   "language": "python",
   "name": "python3"
  },
  "language_info": {
   "codemirror_mode": {
    "name": "ipython",
    "version": 3
   },
   "file_extension": ".py",
   "mimetype": "text/x-python",
   "name": "python",
   "nbconvert_exporter": "python",
   "pygments_lexer": "ipython3",
   "version": "3.7.1"
  }
 },
 "nbformat": 4,
 "nbformat_minor": 2
}
