{
 "cells": [
  {
   "cell_type": "code",
   "execution_count": 21,
   "metadata": {},
   "outputs": [],
   "source": [
    "import pandas as pd\n",
    "\n",
    "import matplotlib.pyplot as plt"
   ]
  },
  {
   "cell_type": "code",
   "execution_count": 8,
   "metadata": {},
   "outputs": [],
   "source": [
    "DATE_FROM = \"2018-06-01\"\n",
    "DATE_TO = \"2018-06-07\""
   ]
  },
  {
   "cell_type": "code",
   "execution_count": 6,
   "metadata": {},
   "outputs": [],
   "source": [
    "meteo = pd.read_csv(\"../data/synop_fin.csv\", index_col=0)"
   ]
  },
  {
   "cell_type": "code",
   "execution_count": 16,
   "metadata": {},
   "outputs": [
    {
     "data": {
      "text/html": [
       "<div>\n",
       "<style scoped>\n",
       "    .dataframe tbody tr th:only-of-type {\n",
       "        vertical-align: middle;\n",
       "    }\n",
       "\n",
       "    .dataframe tbody tr th {\n",
       "        vertical-align: top;\n",
       "    }\n",
       "\n",
       "    .dataframe thead th {\n",
       "        text-align: right;\n",
       "    }\n",
       "</style>\n",
       "<table border=\"1\" class=\"dataframe\">\n",
       "  <thead>\n",
       "    <tr style=\"text-align: right;\">\n",
       "      <th></th>\n",
       "      <th>datetime</th>\n",
       "      <th>station_name</th>\n",
       "      <th>latitude</th>\n",
       "      <th>longitude</th>\n",
       "      <th>temperature</th>\n",
       "      <th>rainfall</th>\n",
       "      <th>wind_speed</th>\n",
       "    </tr>\n",
       "  </thead>\n",
       "  <tbody>\n",
       "    <tr>\n",
       "      <th>0</th>\n",
       "      <td>2017-12-10 00:00:00</td>\n",
       "      <td>KOŁOBRZEG-DŹWIRZYNO</td>\n",
       "      <td>54.156846</td>\n",
       "      <td>15.402596</td>\n",
       "      <td>2.40</td>\n",
       "      <td>0.10</td>\n",
       "      <td>4.00</td>\n",
       "    </tr>\n",
       "    <tr>\n",
       "      <th>1</th>\n",
       "      <td>2017-12-10 00:15:00</td>\n",
       "      <td>KOŁOBRZEG-DŹWIRZYNO</td>\n",
       "      <td>54.156846</td>\n",
       "      <td>15.402596</td>\n",
       "      <td>2.14</td>\n",
       "      <td>0.06</td>\n",
       "      <td>3.67</td>\n",
       "    </tr>\n",
       "    <tr>\n",
       "      <th>2</th>\n",
       "      <td>2017-12-10 00:30:00</td>\n",
       "      <td>KOŁOBRZEG-DŹWIRZYNO</td>\n",
       "      <td>54.156846</td>\n",
       "      <td>15.402596</td>\n",
       "      <td>1.96</td>\n",
       "      <td>0.04</td>\n",
       "      <td>3.39</td>\n",
       "    </tr>\n",
       "    <tr>\n",
       "      <th>3</th>\n",
       "      <td>2017-12-10 00:45:00</td>\n",
       "      <td>KOŁOBRZEG-DŹWIRZYNO</td>\n",
       "      <td>54.156846</td>\n",
       "      <td>15.402596</td>\n",
       "      <td>1.84</td>\n",
       "      <td>0.01</td>\n",
       "      <td>3.17</td>\n",
       "    </tr>\n",
       "    <tr>\n",
       "      <th>4</th>\n",
       "      <td>2017-12-10 01:00:00</td>\n",
       "      <td>KOŁOBRZEG-DŹWIRZYNO</td>\n",
       "      <td>54.156846</td>\n",
       "      <td>15.402596</td>\n",
       "      <td>1.80</td>\n",
       "      <td>-0.00</td>\n",
       "      <td>3.00</td>\n",
       "    </tr>\n",
       "  </tbody>\n",
       "</table>\n",
       "</div>"
      ],
      "text/plain": [
       "              datetime         station_name   latitude  longitude  \\\n",
       "0  2017-12-10 00:00:00  KOŁOBRZEG-DŹWIRZYNO  54.156846  15.402596   \n",
       "1  2017-12-10 00:15:00  KOŁOBRZEG-DŹWIRZYNO  54.156846  15.402596   \n",
       "2  2017-12-10 00:30:00  KOŁOBRZEG-DŹWIRZYNO  54.156846  15.402596   \n",
       "3  2017-12-10 00:45:00  KOŁOBRZEG-DŹWIRZYNO  54.156846  15.402596   \n",
       "4  2017-12-10 01:00:00  KOŁOBRZEG-DŹWIRZYNO  54.156846  15.402596   \n",
       "\n",
       "   temperature  rainfall  wind_speed  \n",
       "0         2.40      0.10        4.00  \n",
       "1         2.14      0.06        3.67  \n",
       "2         1.96      0.04        3.39  \n",
       "3         1.84      0.01        3.17  \n",
       "4         1.80     -0.00        3.00  "
      ]
     },
     "execution_count": 16,
     "metadata": {},
     "output_type": "execute_result"
    }
   ],
   "source": [
    "meteo.head()"
   ]
  },
  {
   "cell_type": "code",
   "execution_count": 9,
   "metadata": {},
   "outputs": [],
   "source": [
    "subset = (meteo[\"datetime\"] > DATE_FROM) & (meteo[\"datetime\"] < DATE_TO)"
   ]
  },
  {
   "cell_type": "code",
   "execution_count": 24,
   "metadata": {},
   "outputs": [
    {
     "data": {
      "image/png": "[encoded data removed]",
      "text/plain": [
       "<Figure size 432x288 with 1 Axes>"
      ]
     },
     "metadata": {
      "needs_background": "light"
     },
     "output_type": "display_data"
    }
   ],
   "source": [
    "meteo_subset = meteo[subset]\n",
    "\n",
    "meteo_subset[\"rainfall\"].hist()\n",
    "plt.show()"
   ]
  },
  {
   "cell_type": "code",
   "execution_count": null,
   "metadata": {},
   "outputs": [],
   "source": [
    "meteo_subset.to_csv(\"../data/synop_subset.csv\")"
   ]
  }
 ],
 "metadata": {
  "kernelspec": {
   "display_name": "Python 3",
   "language": "python",
   "name": "python3"
  },
  "language_info": {
   "codemirror_mode": {
    "name": "ipython",
    "version": 3
   },
   "file_extension": ".py",
   "mimetype": "text/x-python",
   "name": "python",
   "nbconvert_exporter": "python",
   "pygments_lexer": "ipython3",
   "version": "3.7.1"
  }
 },
 "nbformat": 4,
 "nbformat_minor": 2
}
