{
 "cells": [
  {
   "cell_type": "code",
   "execution_count": 1,
   "metadata": {},
   "outputs": [],
   "source": [
    "import pandas as pd"
   ]
  },
  {
   "cell_type": "code",
   "execution_count": 2,
   "metadata": {},
   "outputs": [],
   "source": [
    "DATA_DIR = 'C:/Users/centu/OneDrive/Dokumenty/complex-data/'"
   ]
  },
  {
   "cell_type": "code",
   "execution_count": 3,
   "metadata": {},
   "outputs": [],
   "source": [
    "data_file = 'schedule_info.csv'"
   ]
  },
  {
   "cell_type": "code",
   "execution_count": 4,
   "metadata": {},
   "outputs": [],
   "source": [
    "columns = ['schedule_id', 'stop_number', 'station_id', 'arrival_time', 'arrival_delay', 'departure_time', 'departure_delay']"
   ]
  },
  {
   "cell_type": "code",
   "execution_count": 5,
   "metadata": {},
   "outputs": [],
   "source": [
    "df = pd.read_csv(DATA_DIR + data_file, names=columns)"
   ]
  },
  {
   "cell_type": "code",
   "execution_count": 6,
   "metadata": {},
   "outputs": [
    {
     "data": {
      "text/html": [
       "<div>\n",
       "<style scoped>\n",
       "    .dataframe tbody tr th:only-of-type {\n",
       "        vertical-align: middle;\n",
       "    }\n",
       "\n",
       "    .dataframe tbody tr th {\n",
       "        vertical-align: top;\n",
       "    }\n",
       "\n",
       "    .dataframe thead th {\n",
       "        text-align: right;\n",
       "    }\n",
       "</style>\n",
       "<table border=\"1\" class=\"dataframe\">\n",
       "  <thead>\n",
       "    <tr style=\"text-align: right;\">\n",
       "      <th></th>\n",
       "      <th>schedule_id</th>\n",
       "      <th>stop_number</th>\n",
       "      <th>station_id</th>\n",
       "      <th>arrival_time</th>\n",
       "      <th>arrival_delay</th>\n",
       "      <th>departure_time</th>\n",
       "      <th>departure_delay</th>\n",
       "    </tr>\n",
       "  </thead>\n",
       "  <tbody>\n",
       "    <tr>\n",
       "      <th>0</th>\n",
       "      <td>50049154</td>\n",
       "      <td>0</td>\n",
       "      <td>43</td>\n",
       "      <td>NaN</td>\n",
       "      <td>NaN</td>\n",
       "      <td>2017-12-11 04:40:00</td>\n",
       "      <td>0.0</td>\n",
       "    </tr>\n",
       "    <tr>\n",
       "      <th>1</th>\n",
       "      <td>50049154</td>\n",
       "      <td>1</td>\n",
       "      <td>42</td>\n",
       "      <td>2017-12-11 04:44:00</td>\n",
       "      <td>0.0</td>\n",
       "      <td>2017-12-11 04:45:00</td>\n",
       "      <td>0.0</td>\n",
       "    </tr>\n",
       "    <tr>\n",
       "      <th>2</th>\n",
       "      <td>50049154</td>\n",
       "      <td>2</td>\n",
       "      <td>41</td>\n",
       "      <td>2017-12-11 04:51:00</td>\n",
       "      <td>0.0</td>\n",
       "      <td>2017-12-11 04:52:00</td>\n",
       "      <td>0.0</td>\n",
       "    </tr>\n",
       "    <tr>\n",
       "      <th>3</th>\n",
       "      <td>50049154</td>\n",
       "      <td>3</td>\n",
       "      <td>832</td>\n",
       "      <td>2017-12-11 04:58:00</td>\n",
       "      <td>0.0</td>\n",
       "      <td>2017-12-11 04:58:30</td>\n",
       "      <td>0.0</td>\n",
       "    </tr>\n",
       "    <tr>\n",
       "      <th>4</th>\n",
       "      <td>50049154</td>\n",
       "      <td>4</td>\n",
       "      <td>780</td>\n",
       "      <td>2017-12-11 05:00:30</td>\n",
       "      <td>0.0</td>\n",
       "      <td>2017-12-11 05:01:00</td>\n",
       "      <td>0.0</td>\n",
       "    </tr>\n",
       "  </tbody>\n",
       "</table>\n",
       "</div>"
      ],
      "text/plain": [
       "   schedule_id  stop_number  station_id         arrival_time  arrival_delay  \\\n",
       "0     50049154            0          43                  NaN            NaN   \n",
       "1     50049154            1          42  2017-12-11 04:44:00            0.0   \n",
       "2     50049154            2          41  2017-12-11 04:51:00            0.0   \n",
       "3     50049154            3         832  2017-12-11 04:58:00            0.0   \n",
       "4     50049154            4         780  2017-12-11 05:00:30            0.0   \n",
       "\n",
       "        departure_time  departure_delay  \n",
       "0  2017-12-11 04:40:00              0.0  \n",
       "1  2017-12-11 04:45:00              0.0  \n",
       "2  2017-12-11 04:52:00              0.0  \n",
       "3  2017-12-11 04:58:30              0.0  \n",
       "4  2017-12-11 05:01:00              0.0  "
      ]
     },
     "execution_count": 6,
     "metadata": {},
     "output_type": "execute_result"
    }
   ],
   "source": [
    "df.head()"
   ]
  },
  {
   "cell_type": "code",
   "execution_count": 12,
   "metadata": {},
   "outputs": [],
   "source": [
    "df['arrival_time_dt'] = pd.to_datetime(df['arrival_time'], infer_datetime_format=True)"
   ]
  },
  {
   "cell_type": "code",
   "execution_count": 13,
   "metadata": {},
   "outputs": [],
   "source": [
    "df['departure_time_dt'] = pd.to_datetime(df['departure_time'], infer_datetime_format=True)"
   ]
  },
  {
   "cell_type": "code",
   "execution_count": 14,
   "metadata": {},
   "outputs": [
    {
     "data": {
      "text/html": [
       "<div>\n",
       "<style scoped>\n",
       "    .dataframe tbody tr th:only-of-type {\n",
       "        vertical-align: middle;\n",
       "    }\n",
       "\n",
       "    .dataframe tbody tr th {\n",
       "        vertical-align: top;\n",
       "    }\n",
       "\n",
       "    .dataframe thead th {\n",
       "        text-align: right;\n",
       "    }\n",
       "</style>\n",
       "<table border=\"1\" class=\"dataframe\">\n",
       "  <thead>\n",
       "    <tr style=\"text-align: right;\">\n",
       "      <th></th>\n",
       "      <th>schedule_id</th>\n",
       "      <th>stop_number</th>\n",
       "      <th>station_id</th>\n",
       "      <th>arrival_time</th>\n",
       "      <th>arrival_delay</th>\n",
       "      <th>departure_time</th>\n",
       "      <th>departure_delay</th>\n",
       "      <th>arrival_time_dt</th>\n",
       "      <th>departure_time_dt</th>\n",
       "    </tr>\n",
       "  </thead>\n",
       "  <tbody>\n",
       "    <tr>\n",
       "      <th>0</th>\n",
       "      <td>50049154</td>\n",
       "      <td>0</td>\n",
       "      <td>43</td>\n",
       "      <td>NaN</td>\n",
       "      <td>NaN</td>\n",
       "      <td>2017-12-11 04:40:00</td>\n",
       "      <td>0.0</td>\n",
       "      <td>NaT</td>\n",
       "      <td>2017-12-11 04:40:00</td>\n",
       "    </tr>\n",
       "    <tr>\n",
       "      <th>1</th>\n",
       "      <td>50049154</td>\n",
       "      <td>1</td>\n",
       "      <td>42</td>\n",
       "      <td>2017-12-11 04:44:00</td>\n",
       "      <td>0.0</td>\n",
       "      <td>2017-12-11 04:45:00</td>\n",
       "      <td>0.0</td>\n",
       "      <td>2017-12-11 04:44:00</td>\n",
       "      <td>2017-12-11 04:45:00</td>\n",
       "    </tr>\n",
       "    <tr>\n",
       "      <th>2</th>\n",
       "      <td>50049154</td>\n",
       "      <td>2</td>\n",
       "      <td>41</td>\n",
       "      <td>2017-12-11 04:51:00</td>\n",
       "      <td>0.0</td>\n",
       "      <td>2017-12-11 04:52:00</td>\n",
       "      <td>0.0</td>\n",
       "      <td>2017-12-11 04:51:00</td>\n",
       "      <td>2017-12-11 04:52:00</td>\n",
       "    </tr>\n",
       "    <tr>\n",
       "      <th>3</th>\n",
       "      <td>50049154</td>\n",
       "      <td>3</td>\n",
       "      <td>832</td>\n",
       "      <td>2017-12-11 04:58:00</td>\n",
       "      <td>0.0</td>\n",
       "      <td>2017-12-11 04:58:30</td>\n",
       "      <td>0.0</td>\n",
       "      <td>2017-12-11 04:58:00</td>\n",
       "      <td>2017-12-11 04:58:30</td>\n",
       "    </tr>\n",
       "    <tr>\n",
       "      <th>4</th>\n",
       "      <td>50049154</td>\n",
       "      <td>4</td>\n",
       "      <td>780</td>\n",
       "      <td>2017-12-11 05:00:30</td>\n",
       "      <td>0.0</td>\n",
       "      <td>2017-12-11 05:01:00</td>\n",
       "      <td>0.0</td>\n",
       "      <td>2017-12-11 05:00:30</td>\n",
       "      <td>2017-12-11 05:01:00</td>\n",
       "    </tr>\n",
       "  </tbody>\n",
       "</table>\n",
       "</div>"
      ],
      "text/plain": [
       "   schedule_id  stop_number  station_id         arrival_time  arrival_delay  \\\n",
       "0     50049154            0          43                  NaN            NaN   \n",
       "1     50049154            1          42  2017-12-11 04:44:00            0.0   \n",
       "2     50049154            2          41  2017-12-11 04:51:00            0.0   \n",
       "3     50049154            3         832  2017-12-11 04:58:00            0.0   \n",
       "4     50049154            4         780  2017-12-11 05:00:30            0.0   \n",
       "\n",
       "        departure_time  departure_delay     arrival_time_dt  \\\n",
       "0  2017-12-11 04:40:00              0.0                 NaT   \n",
       "1  2017-12-11 04:45:00              0.0 2017-12-11 04:44:00   \n",
       "2  2017-12-11 04:52:00              0.0 2017-12-11 04:51:00   \n",
       "3  2017-12-11 04:58:30              0.0 2017-12-11 04:58:00   \n",
       "4  2017-12-11 05:01:00              0.0 2017-12-11 05:00:30   \n",
       "\n",
       "    departure_time_dt  \n",
       "0 2017-12-11 04:40:00  \n",
       "1 2017-12-11 04:45:00  \n",
       "2 2017-12-11 04:52:00  \n",
       "3 2017-12-11 04:58:30  \n",
       "4 2017-12-11 05:01:00  "
      ]
     },
     "execution_count": 14,
     "metadata": {},
     "output_type": "execute_result"
    }
   ],
   "source": [
    "df.head()"
   ]
  },
  {
   "cell_type": "code",
   "execution_count": 10,
   "metadata": {},
   "outputs": [
    {
     "data": {
      "text/plain": [
       "Timestamp('2017-12-10 00:28:00')"
      ]
     },
     "execution_count": 10,
     "metadata": {},
     "output_type": "execute_result"
    }
   ],
   "source": [
    "df['arrival_time_dt'].min()"
   ]
  },
  {
   "cell_type": "code",
   "execution_count": 15,
   "metadata": {},
   "outputs": [
    {
     "data": {
      "text/plain": [
       "Timestamp('2017-12-10 00:28:30')"
      ]
     },
     "execution_count": 15,
     "metadata": {},
     "output_type": "execute_result"
    }
   ],
   "source": [
    "df['departure_time_dt'].min()"
   ]
  },
  {
   "cell_type": "code",
   "execution_count": 16,
   "metadata": {},
   "outputs": [
    {
     "data": {
      "text/plain": [
       "Timestamp('2018-12-08 23:59:30')"
      ]
     },
     "execution_count": 16,
     "metadata": {},
     "output_type": "execute_result"
    }
   ],
   "source": [
    "df['arrival_time_dt'].max()"
   ]
  },
  {
   "cell_type": "code",
   "execution_count": 17,
   "metadata": {},
   "outputs": [
    {
     "data": {
      "text/plain": [
       "Timestamp('2018-12-08 23:59:48')"
      ]
     },
     "execution_count": 17,
     "metadata": {},
     "output_type": "execute_result"
    }
   ],
   "source": [
    "df['departure_time_dt'].max()"
   ]
  },
  {
   "cell_type": "code",
   "execution_count": null,
   "metadata": {},
   "outputs": [],
   "source": []
  }
 ],
 "metadata": {
  "kernelspec": {
   "display_name": "Python 3",
   "language": "python",
   "name": "python3"
  },
  "language_info": {
   "codemirror_mode": {
    "name": "ipython",
    "version": 3
   },
   "file_extension": ".py",
   "mimetype": "text/x-python",
   "name": "python",
   "nbconvert_exporter": "python",
   "pygments_lexer": "ipython3",
   "version": "3.6.4"
  }
 },
 "nbformat": 4,
 "nbformat_minor": 1
}
